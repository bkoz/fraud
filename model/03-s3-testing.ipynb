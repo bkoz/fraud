{
 "cells": [
  {
   "cell_type": "code",
   "execution_count": null,
   "id": "efe2e72f-914e-433c-b51d-ecfa34009ce0",
   "metadata": {},
   "outputs": [],
   "source": [
    "#\n",
    "# Simple boto3 client to upload a file to S3 compatible object store.\n",
    "#\n",
    "\n",
    "import boto3\n",
    "import botocore.exceptions\n",
    "import os\n",
    "\n",
    "def upload_file(s3_client, file_name, bucket, object_name=None):\n",
    "    \"\"\"Upload a file to an S3 bucket\n",
    "\n",
    "    :param s3_client: The client connection handle. \n",
    "    :param file_name: File to upload\n",
    "    :param bucket: Bucket to upload to\n",
    "    :param object_name: S3 object name. If not specified then file_name is used \n",
    "    :return: True if file was uploaded, else False\n",
    "    \"\"\"\n",
    "\n",
    "    # If S3 object_name was not specified, use file_name\n",
    "    if object_name is None:\n",
    "        object_name = os.path.basename(file_name)\n",
    "\n",
    "    # Upload the file\n",
    "    # s3_client = boto3.client(\n",
    "    # 's3', \n",
    "    # aws_access_key_id=os.getenv(\"AWS_ACCESS_KEY_ID\"),\n",
    "    # aws_secret_access_key=os.getenv(\"AWS_SECRET_ACCESS_KEY\"),\n",
    "    # endpoint_url=os.getenv(\"AWS_S3_ENDPOINT\")\n",
    "    # )\n",
    "    try:    \n",
    "        response = s3_client.upload_file(file_name, bucket, object_name)\n",
    "    except ClientError as e:\n",
    "        logging.error(e)\n",
    "        return False\n",
    "    return True\n",
    "\n",
    "if __name__ == \"__main__\":\n",
    "\n",
    "    client = boto3.client(\n",
    "        's3',   \n",
    "        aws_access_key_id=os.getenv(\"FUSION_ACCESS_KEY\"),\n",
    "        aws_secret_access_key=os.getenv(\"FUSION_SECRET_KEY\"),\n",
    "        endpoint_url=os.getenv(\"FUSION_S3_ENDPOINT\")\n",
    "    )\n",
    "\n",
    "    print(\"List buckets:\")\n",
    "    print(client.list_buckets())\n",
    "    print()\n",
    "\n",
    "    print(\"Uploading file to S3...\") \n",
    "\n",
    "    upload_file(client, \"date.txt\", os.getenv(\"FUSION_VAULT\"))"
   ]
  },
  {
   "cell_type": "code",
   "execution_count": null,
   "id": "cc1a8da1-4921-40b5-aeae-8bd214f97a78",
   "metadata": {},
   "outputs": [],
   "source": []
  }
 ],
 "metadata": {
  "kernelspec": {
   "display_name": "Python 3.9.14",
   "language": "python",
   "name": "python3"
  },
  "language_info": {
   "codemirror_mode": {
    "name": "ipython",
    "version": 3
   },
   "file_extension": ".py",
   "mimetype": "text/x-python",
   "name": "python",
   "nbconvert_exporter": "python",
   "pygments_lexer": "ipython3",
   "version": "3.9.14"
  }
 },
 "nbformat": 4,
 "nbformat_minor": 5
}
